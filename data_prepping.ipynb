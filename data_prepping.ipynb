{
 "cells": [
  {
   "cell_type": "markdown",
   "metadata": {
    "id": "Tj7av84tKe52"
   },
   "source": [
    "# DSA 6000\n",
    "# TEAM 10\n",
    "# Los Angeles crime data"
   ]
  },
  {
   "cell_type": "markdown",
   "metadata": {
    "id": "KcC4BXOnaLz0"
   },
   "source": [
    "# Data Cleaning"
   ]
  },
  {
   "cell_type": "code",
   "execution_count": null,
   "metadata": {
    "id": "MHY9C_GaaLz2"
   },
   "outputs": [],
   "source": [
    "import numpy as np\n",
    "import pandas as pd\n",
    "pd.options.display.max_columns = 50\n",
    "import matplotlib.pyplot as plt\n",
    "%matplotlib inline\n",
    "plt.style.use('dark_background')\n",
    "import seaborn as sns\n",
    "import sklearn\n",
    "import pickle"
   ]
  },
  {
   "cell_type": "markdown",
   "metadata": {
    "id": "0daGAFHmaLz3"
   },
   "source": [
    "## Loading Crime Dataset"
   ]
  },
  {
   "cell_type": "code",
   "execution_count": null,
   "metadata": {
    "id": "oNNpS1OoaLz4"
   },
   "outputs": [],
   "source": [
    "df = pd.read_csv('/content/crime_data.csv')"
   ]
  },
  {
   "cell_type": "code",
   "execution_count": null,
   "metadata": {
    "colab": {
     "base_uri": "https://localhost:8080/"
    },
    "id": "4Vo8-cBtaLz4",
    "outputId": "abd497de-3c82-46a7-a317-f7ea60441308"
   },
   "outputs": [
    {
     "data": {
      "text/html": [
       "\n",
       "  <div id=\"df-b8f42c3d-96a8-4d04-a7ae-7f37ff5e69c1\" class=\"colab-df-container\">\n",
       "    <div>\n",
       "<style scoped>\n",
       "    .dataframe tbody tr th:only-of-type {\n",
       "        vertical-align: middle;\n",
       "    }\n",
       "\n",
       "    .dataframe tbody tr th {\n",
       "        vertical-align: top;\n",
       "    }\n",
       "\n",
       "    .dataframe thead th {\n",
       "        text-align: right;\n",
       "    }\n",
       "</style>\n",
       "<table border=\"1\" class=\"dataframe\">\n",
       "  <thead>\n",
       "    <tr style=\"text-align: right;\">\n",
       "      <th></th>\n",
       "      <th>DR_NO</th>\n",
       "      <th>Date Rptd</th>\n",
       "      <th>DATE OCC</th>\n",
       "      <th>TIME OCC</th>\n",
       "      <th>AREA</th>\n",
       "      <th>AREA NAME</th>\n",
       "      <th>Rpt Dist No</th>\n",
       "      <th>Part 1-2</th>\n",
       "      <th>Crm Cd</th>\n",
       "      <th>Crm Cd Desc</th>\n",
       "      <th>Mocodes</th>\n",
       "      <th>Vict Age</th>\n",
       "      <th>Vict Sex</th>\n",
       "      <th>Vict Descent</th>\n",
       "      <th>Premis Cd</th>\n",
       "      <th>Premis Desc</th>\n",
       "      <th>Weapon Used Cd</th>\n",
       "      <th>Weapon Desc</th>\n",
       "      <th>Status</th>\n",
       "      <th>Status Desc</th>\n",
       "      <th>Crm Cd 1</th>\n",
       "      <th>Crm Cd 2</th>\n",
       "      <th>Crm Cd 3</th>\n",
       "      <th>Crm Cd 4</th>\n",
       "      <th>LOCATION</th>\n",
       "      <th>Cross Street</th>\n",
       "      <th>LAT</th>\n",
       "      <th>LON</th>\n",
       "    </tr>\n",
       "  </thead>\n",
       "  <tbody>\n",
       "    <tr>\n",
       "      <th>0</th>\n",
       "      <td>10304468</td>\n",
       "      <td>01/08/2020 12:00:00 AM</td>\n",
       "      <td>01/08/2020 12:00:00 AM</td>\n",
       "      <td>2230</td>\n",
       "      <td>3</td>\n",
       "      <td>Southwest</td>\n",
       "      <td>377</td>\n",
       "      <td>2</td>\n",
       "      <td>624</td>\n",
       "      <td>BATTERY - SIMPLE ASSAULT</td>\n",
       "      <td>0444 0913</td>\n",
       "      <td>36</td>\n",
       "      <td>F</td>\n",
       "      <td>B</td>\n",
       "      <td>501.0</td>\n",
       "      <td>SINGLE FAMILY DWELLING</td>\n",
       "      <td>400.0</td>\n",
       "      <td>STRONG-ARM (HANDS, FIST, FEET OR BODILY FORCE)</td>\n",
       "      <td>AO</td>\n",
       "      <td>Adult Other</td>\n",
       "      <td>624.0</td>\n",
       "      <td>NaN</td>\n",
       "      <td>NaN</td>\n",
       "      <td>NaN</td>\n",
       "      <td>1100 W  39TH                         PL</td>\n",
       "      <td>NaN</td>\n",
       "      <td>34.0141</td>\n",
       "      <td>-118.2978</td>\n",
       "    </tr>\n",
       "    <tr>\n",
       "      <th>1</th>\n",
       "      <td>190101086</td>\n",
       "      <td>01/02/2020 12:00:00 AM</td>\n",
       "      <td>01/01/2020 12:00:00 AM</td>\n",
       "      <td>330</td>\n",
       "      <td>1</td>\n",
       "      <td>Central</td>\n",
       "      <td>163</td>\n",
       "      <td>2</td>\n",
       "      <td>624</td>\n",
       "      <td>BATTERY - SIMPLE ASSAULT</td>\n",
       "      <td>0416 1822 1414</td>\n",
       "      <td>25</td>\n",
       "      <td>M</td>\n",
       "      <td>H</td>\n",
       "      <td>102.0</td>\n",
       "      <td>SIDEWALK</td>\n",
       "      <td>500.0</td>\n",
       "      <td>UNKNOWN WEAPON/OTHER WEAPON</td>\n",
       "      <td>IC</td>\n",
       "      <td>Invest Cont</td>\n",
       "      <td>624.0</td>\n",
       "      <td>NaN</td>\n",
       "      <td>NaN</td>\n",
       "      <td>NaN</td>\n",
       "      <td>700 S  HILL                         ST</td>\n",
       "      <td>NaN</td>\n",
       "      <td>34.0459</td>\n",
       "      <td>-118.2545</td>\n",
       "    </tr>\n",
       "    <tr>\n",
       "      <th>2</th>\n",
       "      <td>200110444</td>\n",
       "      <td>04/14/2020 12:00:00 AM</td>\n",
       "      <td>02/13/2020 12:00:00 AM</td>\n",
       "      <td>1200</td>\n",
       "      <td>1</td>\n",
       "      <td>Central</td>\n",
       "      <td>155</td>\n",
       "      <td>2</td>\n",
       "      <td>845</td>\n",
       "      <td>SEX OFFENDER REGISTRANT OUT OF COMPLIANCE</td>\n",
       "      <td>1501</td>\n",
       "      <td>0</td>\n",
       "      <td>X</td>\n",
       "      <td>X</td>\n",
       "      <td>726.0</td>\n",
       "      <td>POLICE FACILITY</td>\n",
       "      <td>NaN</td>\n",
       "      <td>NaN</td>\n",
       "      <td>AA</td>\n",
       "      <td>Adult Arrest</td>\n",
       "      <td>845.0</td>\n",
       "      <td>NaN</td>\n",
       "      <td>NaN</td>\n",
       "      <td>NaN</td>\n",
       "      <td>200 E  6TH                          ST</td>\n",
       "      <td>NaN</td>\n",
       "      <td>34.0448</td>\n",
       "      <td>-118.2474</td>\n",
       "    </tr>\n",
       "    <tr>\n",
       "      <th>3</th>\n",
       "      <td>191501505</td>\n",
       "      <td>01/01/2020 12:00:00 AM</td>\n",
       "      <td>01/01/2020 12:00:00 AM</td>\n",
       "      <td>1730</td>\n",
       "      <td>15</td>\n",
       "      <td>N Hollywood</td>\n",
       "      <td>1543</td>\n",
       "      <td>2</td>\n",
       "      <td>745</td>\n",
       "      <td>VANDALISM - MISDEAMEANOR ($399 OR UNDER)</td>\n",
       "      <td>0329 1402</td>\n",
       "      <td>76</td>\n",
       "      <td>F</td>\n",
       "      <td>W</td>\n",
       "      <td>502.0</td>\n",
       "      <td>MULTI-UNIT DWELLING (APARTMENT, DUPLEX, ETC)</td>\n",
       "      <td>NaN</td>\n",
       "      <td>NaN</td>\n",
       "      <td>IC</td>\n",
       "      <td>Invest Cont</td>\n",
       "      <td>745.0</td>\n",
       "      <td>998.0</td>\n",
       "      <td>NaN</td>\n",
       "      <td>NaN</td>\n",
       "      <td>5400    CORTEEN                      PL</td>\n",
       "      <td>NaN</td>\n",
       "      <td>34.1685</td>\n",
       "      <td>-118.4019</td>\n",
       "    </tr>\n",
       "    <tr>\n",
       "      <th>4</th>\n",
       "      <td>191921269</td>\n",
       "      <td>01/01/2020 12:00:00 AM</td>\n",
       "      <td>01/01/2020 12:00:00 AM</td>\n",
       "      <td>415</td>\n",
       "      <td>19</td>\n",
       "      <td>Mission</td>\n",
       "      <td>1998</td>\n",
       "      <td>2</td>\n",
       "      <td>740</td>\n",
       "      <td>VANDALISM - FELONY ($400 &amp; OVER, ALL CHURCH VA...</td>\n",
       "      <td>0329</td>\n",
       "      <td>31</td>\n",
       "      <td>X</td>\n",
       "      <td>X</td>\n",
       "      <td>409.0</td>\n",
       "      <td>BEAUTY SUPPLY STORE</td>\n",
       "      <td>NaN</td>\n",
       "      <td>NaN</td>\n",
       "      <td>IC</td>\n",
       "      <td>Invest Cont</td>\n",
       "      <td>740.0</td>\n",
       "      <td>NaN</td>\n",
       "      <td>NaN</td>\n",
       "      <td>NaN</td>\n",
       "      <td>14400    TITUS                        ST</td>\n",
       "      <td>NaN</td>\n",
       "      <td>34.2198</td>\n",
       "      <td>-118.4468</td>\n",
       "    </tr>\n",
       "  </tbody>\n",
       "</table>\n",
       "</div>\n",
       "    <div class=\"colab-df-buttons\">\n",
       "\n",
       "  <div class=\"colab-df-container\">\n",
       "    <button class=\"colab-df-convert\" onclick=\"convertToInteractive('df-b8f42c3d-96a8-4d04-a7ae-7f37ff5e69c1')\"\n",
       "            title=\"Convert this dataframe to an interactive table.\"\n",
       "            style=\"display:none;\">\n",
       "\n",
       "  <svg xmlns=\"http://www.w3.org/2000/svg\" height=\"24px\" viewBox=\"0 -960 960 960\">\n",
       "    <path d=\"M120-120v-720h720v720H120Zm60-500h600v-160H180v160Zm220 220h160v-160H400v160Zm0 220h160v-160H400v160ZM180-400h160v-160H180v160Zm440 0h160v-160H620v160ZM180-180h160v-160H180v160Zm440 0h160v-160H620v160Z\"/>\n",
       "  </svg>\n",
       "    </button>\n",
       "\n",
       "  <style>\n",
       "    .colab-df-container {\n",
       "      display:flex;\n",
       "      gap: 12px;\n",
       "    }\n",
       "\n",
       "    .colab-df-convert {\n",
       "      background-color: #E8F0FE;\n",
       "      border: none;\n",
       "      border-radius: 50%;\n",
       "      cursor: pointer;\n",
       "      display: none;\n",
       "      fill: #1967D2;\n",
       "      height: 32px;\n",
       "      padding: 0 0 0 0;\n",
       "      width: 32px;\n",
       "    }\n",
       "\n",
       "    .colab-df-convert:hover {\n",
       "      background-color: #E2EBFA;\n",
       "      box-shadow: 0px 1px 2px rgba(60, 64, 67, 0.3), 0px 1px 3px 1px rgba(60, 64, 67, 0.15);\n",
       "      fill: #174EA6;\n",
       "    }\n",
       "\n",
       "    .colab-df-buttons div {\n",
       "      margin-bottom: 4px;\n",
       "    }\n",
       "\n",
       "    [theme=dark] .colab-df-convert {\n",
       "      background-color: #3B4455;\n",
       "      fill: #D2E3FC;\n",
       "    }\n",
       "\n",
       "    [theme=dark] .colab-df-convert:hover {\n",
       "      background-color: #434B5C;\n",
       "      box-shadow: 0px 1px 3px 1px rgba(0, 0, 0, 0.15);\n",
       "      filter: drop-shadow(0px 1px 2px rgba(0, 0, 0, 0.3));\n",
       "      fill: #FFFFFF;\n",
       "    }\n",
       "  </style>\n",
       "\n",
       "    <script>\n",
       "      const buttonEl =\n",
       "        document.querySelector('#df-b8f42c3d-96a8-4d04-a7ae-7f37ff5e69c1 button.colab-df-convert');\n",
       "      buttonEl.style.display =\n",
       "        google.colab.kernel.accessAllowed ? 'block' : 'none';\n",
       "\n",
       "      async function convertToInteractive(key) {\n",
       "        const element = document.querySelector('#df-b8f42c3d-96a8-4d04-a7ae-7f37ff5e69c1');\n",
       "        const dataTable =\n",
       "          await google.colab.kernel.invokeFunction('convertToInteractive',\n",
       "                                                    [key], {});\n",
       "        if (!dataTable) return;\n",
       "\n",
       "        const docLinkHtml = 'Like what you see? Visit the ' +\n",
       "          '<a target=\"_blank\" href=https://colab.research.google.com/notebooks/data_table.ipynb>data table notebook</a>'\n",
       "          + ' to learn more about interactive tables.';\n",
       "        element.innerHTML = '';\n",
       "        dataTable['output_type'] = 'display_data';\n",
       "        await google.colab.output.renderOutput(dataTable, element);\n",
       "        const docLink = document.createElement('div');\n",
       "        docLink.innerHTML = docLinkHtml;\n",
       "        element.appendChild(docLink);\n",
       "      }\n",
       "    </script>\n",
       "  </div>\n",
       "\n",
       "\n",
       "<div id=\"df-aff5e36b-851b-46b0-a4e4-31c3fb0ea92d\">\n",
       "  <button class=\"colab-df-quickchart\" onclick=\"quickchart('df-aff5e36b-851b-46b0-a4e4-31c3fb0ea92d')\"\n",
       "            title=\"Suggest charts\"\n",
       "            style=\"display:none;\">\n",
       "\n",
       "<svg xmlns=\"http://www.w3.org/2000/svg\" height=\"24px\"viewBox=\"0 0 24 24\"\n",
       "     width=\"24px\">\n",
       "    <g>\n",
       "        <path d=\"M19 3H5c-1.1 0-2 .9-2 2v14c0 1.1.9 2 2 2h14c1.1 0 2-.9 2-2V5c0-1.1-.9-2-2-2zM9 17H7v-7h2v7zm4 0h-2V7h2v10zm4 0h-2v-4h2v4z\"/>\n",
       "    </g>\n",
       "</svg>\n",
       "  </button>\n",
       "\n",
       "<style>\n",
       "  .colab-df-quickchart {\n",
       "      --bg-color: #E8F0FE;\n",
       "      --fill-color: #1967D2;\n",
       "      --hover-bg-color: #E2EBFA;\n",
       "      --hover-fill-color: #174EA6;\n",
       "      --disabled-fill-color: #AAA;\n",
       "      --disabled-bg-color: #DDD;\n",
       "  }\n",
       "\n",
       "  [theme=dark] .colab-df-quickchart {\n",
       "      --bg-color: #3B4455;\n",
       "      --fill-color: #D2E3FC;\n",
       "      --hover-bg-color: #434B5C;\n",
       "      --hover-fill-color: #FFFFFF;\n",
       "      --disabled-bg-color: #3B4455;\n",
       "      --disabled-fill-color: #666;\n",
       "  }\n",
       "\n",
       "  .colab-df-quickchart {\n",
       "    background-color: var(--bg-color);\n",
       "    border: none;\n",
       "    border-radius: 50%;\n",
       "    cursor: pointer;\n",
       "    display: none;\n",
       "    fill: var(--fill-color);\n",
       "    height: 32px;\n",
       "    padding: 0;\n",
       "    width: 32px;\n",
       "  }\n",
       "\n",
       "  .colab-df-quickchart:hover {\n",
       "    background-color: var(--hover-bg-color);\n",
       "    box-shadow: 0 1px 2px rgba(60, 64, 67, 0.3), 0 1px 3px 1px rgba(60, 64, 67, 0.15);\n",
       "    fill: var(--button-hover-fill-color);\n",
       "  }\n",
       "\n",
       "  .colab-df-quickchart-complete:disabled,\n",
       "  .colab-df-quickchart-complete:disabled:hover {\n",
       "    background-color: var(--disabled-bg-color);\n",
       "    fill: var(--disabled-fill-color);\n",
       "    box-shadow: none;\n",
       "  }\n",
       "\n",
       "  .colab-df-spinner {\n",
       "    border: 2px solid var(--fill-color);\n",
       "    border-color: transparent;\n",
       "    border-bottom-color: var(--fill-color);\n",
       "    animation:\n",
       "      spin 1s steps(1) infinite;\n",
       "  }\n",
       "\n",
       "  @keyframes spin {\n",
       "    0% {\n",
       "      border-color: transparent;\n",
       "      border-bottom-color: var(--fill-color);\n",
       "      border-left-color: var(--fill-color);\n",
       "    }\n",
       "    20% {\n",
       "      border-color: transparent;\n",
       "      border-left-color: var(--fill-color);\n",
       "      border-top-color: var(--fill-color);\n",
       "    }\n",
       "    30% {\n",
       "      border-color: transparent;\n",
       "      border-left-color: var(--fill-color);\n",
       "      border-top-color: var(--fill-color);\n",
       "      border-right-color: var(--fill-color);\n",
       "    }\n",
       "    40% {\n",
       "      border-color: transparent;\n",
       "      border-right-color: var(--fill-color);\n",
       "      border-top-color: var(--fill-color);\n",
       "    }\n",
       "    60% {\n",
       "      border-color: transparent;\n",
       "      border-right-color: var(--fill-color);\n",
       "    }\n",
       "    80% {\n",
       "      border-color: transparent;\n",
       "      border-right-color: var(--fill-color);\n",
       "      border-bottom-color: var(--fill-color);\n",
       "    }\n",
       "    90% {\n",
       "      border-color: transparent;\n",
       "      border-bottom-color: var(--fill-color);\n",
       "    }\n",
       "  }\n",
       "</style>\n",
       "\n",
       "  <script>\n",
       "    async function quickchart(key) {\n",
       "      const quickchartButtonEl =\n",
       "        document.querySelector('#' + key + ' button');\n",
       "      quickchartButtonEl.disabled = true;  // To prevent multiple clicks.\n",
       "      quickchartButtonEl.classList.add('colab-df-spinner');\n",
       "      try {\n",
       "        const charts = await google.colab.kernel.invokeFunction(\n",
       "            'suggestCharts', [key], {});\n",
       "      } catch (error) {\n",
       "        console.error('Error during call to suggestCharts:', error);\n",
       "      }\n",
       "      quickchartButtonEl.classList.remove('colab-df-spinner');\n",
       "      quickchartButtonEl.classList.add('colab-df-quickchart-complete');\n",
       "    }\n",
       "    (() => {\n",
       "      let quickchartButtonEl =\n",
       "        document.querySelector('#df-aff5e36b-851b-46b0-a4e4-31c3fb0ea92d button');\n",
       "      quickchartButtonEl.style.display =\n",
       "        google.colab.kernel.accessAllowed ? 'block' : 'none';\n",
       "    })();\n",
       "  </script>\n",
       "</div>\n",
       "\n",
       "    </div>\n",
       "  </div>\n"
      ],
      "text/plain": [
       "       DR_NO               Date Rptd                DATE OCC  TIME OCC  AREA  \\\n",
       "0   10304468  01/08/2020 12:00:00 AM  01/08/2020 12:00:00 AM      2230     3   \n",
       "1  190101086  01/02/2020 12:00:00 AM  01/01/2020 12:00:00 AM       330     1   \n",
       "2  200110444  04/14/2020 12:00:00 AM  02/13/2020 12:00:00 AM      1200     1   \n",
       "3  191501505  01/01/2020 12:00:00 AM  01/01/2020 12:00:00 AM      1730    15   \n",
       "4  191921269  01/01/2020 12:00:00 AM  01/01/2020 12:00:00 AM       415    19   \n",
       "\n",
       "     AREA NAME  Rpt Dist No  Part 1-2  Crm Cd  \\\n",
       "0    Southwest          377         2     624   \n",
       "1      Central          163         2     624   \n",
       "2      Central          155         2     845   \n",
       "3  N Hollywood         1543         2     745   \n",
       "4      Mission         1998         2     740   \n",
       "\n",
       "                                         Crm Cd Desc         Mocodes  \\\n",
       "0                           BATTERY - SIMPLE ASSAULT       0444 0913   \n",
       "1                           BATTERY - SIMPLE ASSAULT  0416 1822 1414   \n",
       "2          SEX OFFENDER REGISTRANT OUT OF COMPLIANCE            1501   \n",
       "3           VANDALISM - MISDEAMEANOR ($399 OR UNDER)       0329 1402   \n",
       "4  VANDALISM - FELONY ($400 & OVER, ALL CHURCH VA...            0329   \n",
       "\n",
       "   Vict Age Vict Sex Vict Descent  Premis Cd  \\\n",
       "0        36        F            B      501.0   \n",
       "1        25        M            H      102.0   \n",
       "2         0        X            X      726.0   \n",
       "3        76        F            W      502.0   \n",
       "4        31        X            X      409.0   \n",
       "\n",
       "                                    Premis Desc  Weapon Used Cd  \\\n",
       "0                        SINGLE FAMILY DWELLING           400.0   \n",
       "1                                      SIDEWALK           500.0   \n",
       "2                               POLICE FACILITY             NaN   \n",
       "3  MULTI-UNIT DWELLING (APARTMENT, DUPLEX, ETC)             NaN   \n",
       "4                           BEAUTY SUPPLY STORE             NaN   \n",
       "\n",
       "                                      Weapon Desc Status   Status Desc  \\\n",
       "0  STRONG-ARM (HANDS, FIST, FEET OR BODILY FORCE)     AO   Adult Other   \n",
       "1                     UNKNOWN WEAPON/OTHER WEAPON     IC   Invest Cont   \n",
       "2                                             NaN     AA  Adult Arrest   \n",
       "3                                             NaN     IC   Invest Cont   \n",
       "4                                             NaN     IC   Invest Cont   \n",
       "\n",
       "   Crm Cd 1  Crm Cd 2  Crm Cd 3  Crm Cd 4  \\\n",
       "0     624.0       NaN       NaN       NaN   \n",
       "1     624.0       NaN       NaN       NaN   \n",
       "2     845.0       NaN       NaN       NaN   \n",
       "3     745.0     998.0       NaN       NaN   \n",
       "4     740.0       NaN       NaN       NaN   \n",
       "\n",
       "                                   LOCATION Cross Street      LAT       LON  \n",
       "0   1100 W  39TH                         PL          NaN  34.0141 -118.2978  \n",
       "1    700 S  HILL                         ST          NaN  34.0459 -118.2545  \n",
       "2    200 E  6TH                          ST          NaN  34.0448 -118.2474  \n",
       "3   5400    CORTEEN                      PL          NaN  34.1685 -118.4019  \n",
       "4  14400    TITUS                        ST          NaN  34.2198 -118.4468  "
      ]
     },
     "execution_count": 286,
     "metadata": {},
     "output_type": "execute_result"
    }
   ],
   "source": [
    "df.head()"
   ]
  },
  {
   "cell_type": "code",
   "execution_count": null,
   "metadata": {
    "colab": {
     "base_uri": "https://localhost:8080/"
    },
    "id": "pWwGw5HtaLz4",
    "outputId": "ba16dc38-65c9-40a8-e80e-2483761fca67"
   },
   "outputs": [
    {
     "data": {
      "text/plain": [
       "(829778, 28)"
      ]
     },
     "execution_count": 287,
     "metadata": {},
     "output_type": "execute_result"
    }
   ],
   "source": [
    "df.shape"
   ]
  },
  {
   "cell_type": "markdown",
   "metadata": {
    "id": "h8-dA7tJb8K0"
   },
   "source": [
    "> The uncleaned data has over 800 thousand instances and 28 columns"
   ]
  },
  {
   "cell_type": "markdown",
   "metadata": {
    "id": "pvjEHLD8aLz5"
   },
   "source": [
    "## Converting `date occured` to Time Series Index"
   ]
  },
  {
   "cell_type": "code",
   "execution_count": null,
   "metadata": {
    "id": "Jm8Zc3wYaLz5"
   },
   "outputs": [],
   "source": [
    "# setting 'date occured' column as datetime object\n",
    "df['DATE OCC'] = pd.to_datetime(df['DATE OCC'])"
   ]
  },
  {
   "cell_type": "markdown",
   "metadata": {
    "id": "d_XhEqqiMKAI"
   },
   "source": [
    "###Sorting df linearly"
   ]
  },
  {
   "cell_type": "markdown",
   "metadata": {
    "id": "4-hBOpwCaLz6"
   },
   "source": [
    "## Checking empty values for further cleaning"
   ]
  },
  {
   "cell_type": "code",
   "execution_count": null,
   "metadata": {
    "colab": {
     "base_uri": "https://localhost:8080/"
    },
    "id": "SSxKHpvDaLz6",
    "outputId": "4970822e-8dae-47a7-b179-b621174816d2"
   },
   "outputs": [
    {
     "data": {
      "text/plain": [
       "DR_NO                  0\n",
       "Date Rptd              0\n",
       "DATE OCC               0\n",
       "TIME OCC               0\n",
       "AREA                   0\n",
       "AREA NAME              0\n",
       "Rpt Dist No            0\n",
       "Part 1-2               0\n",
       "Crm Cd                 0\n",
       "Crm Cd Desc            0\n",
       "Mocodes           114856\n",
       "Vict Age               0\n",
       "Vict Sex          109299\n",
       "Vict Descent      109307\n",
       "Premis Cd             10\n",
       "Premis Desc          492\n",
       "Weapon Used Cd    540459\n",
       "Weapon Desc       540459\n",
       "Status                 0\n",
       "Status Desc            0\n",
       "Crm Cd 1              10\n",
       "Crm Cd 2          768750\n",
       "Crm Cd 3          827720\n",
       "Crm Cd 4          829717\n",
       "LOCATION               0\n",
       "Cross Street      697270\n",
       "LAT                    0\n",
       "LON                    0\n",
       "dtype: int64"
      ]
     },
     "execution_count": 289,
     "metadata": {},
     "output_type": "execute_result"
    }
   ],
   "source": [
    "# checking for null values\n",
    "df.isna().sum()"
   ]
  },
  {
   "cell_type": "code",
   "execution_count": null,
   "metadata": {
    "id": "TJGkpWFvaLz7"
   },
   "outputs": [],
   "source": [
    "# dropping columns with a majority of missing values and unnessary informatoion\n",
    "df = df.drop(axis=1, columns=['Mocodes',\n",
    "                              'Weapon Used Cd',\n",
    "                              'Weapon Desc',\n",
    "                              'Crm Cd 1', # same as feature 'Crime Code'\n",
    "                              'Crm Cd 2',\n",
    "                              'Crm Cd 3',\n",
    "                              'Crm Cd 4',\n",
    "                              'Cross Street',\n",
    "                             'Date Rptd',])"
   ]
  },
  {
   "cell_type": "markdown",
   "metadata": {
    "id": "xdTfQPYXeM3N"
   },
   "source": [
    "## Data Cleaning"
   ]
  },
  {
   "cell_type": "markdown",
   "metadata": {
    "id": "BWzvULlqfvhZ"
   },
   "source": [
    "### Since premise code and description is only missing few values replacing with appropriate values"
   ]
  },
  {
   "cell_type": "code",
   "execution_count": null,
   "metadata": {
    "id": "2qycFvQ8aLz7"
   },
   "outputs": [],
   "source": [
    "df['Premis Cd'].fillna(0, inplace = True)\n",
    "df['Premis Desc'].fillna('UNKNOWN', inplace = True)"
   ]
  },
  {
   "cell_type": "code",
   "execution_count": null,
   "metadata": {
    "colab": {
     "base_uri": "https://localhost:8080/"
    },
    "id": "mE1t8oCbaLz7",
    "outputId": "100b1844-bcd6-4c3d-8ecd-7ce938fc2358"
   },
   "outputs": [
    {
     "data": {
      "text/plain": [
       "DR_NO                0\n",
       "DATE OCC             0\n",
       "TIME OCC             0\n",
       "AREA                 0\n",
       "AREA NAME            0\n",
       "Rpt Dist No          0\n",
       "Part 1-2             0\n",
       "Crm Cd               0\n",
       "Crm Cd Desc          0\n",
       "Vict Age             0\n",
       "Vict Sex        109299\n",
       "Vict Descent    109307\n",
       "Premis Cd            0\n",
       "Premis Desc          0\n",
       "Status               0\n",
       "Status Desc          0\n",
       "LOCATION             0\n",
       "LAT                  0\n",
       "LON                  0\n",
       "dtype: int64"
      ]
     },
     "execution_count": 292,
     "metadata": {},
     "output_type": "execute_result"
    }
   ],
   "source": [
    "df.isna().sum()"
   ]
  },
  {
   "cell_type": "code",
   "execution_count": null,
   "metadata": {
    "colab": {
     "base_uri": "https://localhost:8080/"
    },
    "id": "z6UchvvWaLz7",
    "outputId": "17ca3116-8af7-46b8-de01-73e2bd72542b"
   },
   "outputs": [
    {
     "name": "stdout",
     "output_type": "stream",
     "text": [
      "<class 'pandas.core.frame.DataFrame'>\n",
      "RangeIndex: 829778 entries, 0 to 829777\n",
      "Data columns (total 19 columns):\n",
      " #   Column        Non-Null Count   Dtype         \n",
      "---  ------        --------------   -----         \n",
      " 0   DR_NO         829778 non-null  int64         \n",
      " 1   DATE OCC      829778 non-null  datetime64[ns]\n",
      " 2   TIME OCC      829778 non-null  int64         \n",
      " 3   AREA          829778 non-null  int64         \n",
      " 4   AREA NAME     829778 non-null  object        \n",
      " 5   Rpt Dist No   829778 non-null  int64         \n",
      " 6   Part 1-2      829778 non-null  int64         \n",
      " 7   Crm Cd        829778 non-null  int64         \n",
      " 8   Crm Cd Desc   829778 non-null  object        \n",
      " 9   Vict Age      829778 non-null  int64         \n",
      " 10  Vict Sex      720479 non-null  object        \n",
      " 11  Vict Descent  720471 non-null  object        \n",
      " 12  Premis Cd     829778 non-null  float64       \n",
      " 13  Premis Desc   829778 non-null  object        \n",
      " 14  Status        829778 non-null  object        \n",
      " 15  Status Desc   829778 non-null  object        \n",
      " 16  LOCATION      829778 non-null  object        \n",
      " 17  LAT           829778 non-null  float64       \n",
      " 18  LON           829778 non-null  float64       \n",
      "dtypes: datetime64[ns](1), float64(3), int64(7), object(8)\n",
      "memory usage: 120.3+ MB\n"
     ]
    }
   ],
   "source": [
    "df.info()"
   ]
  },
  {
   "cell_type": "code",
   "execution_count": null,
   "metadata": {
    "colab": {
     "base_uri": "https://localhost:8080/"
    },
    "id": "tDncRXwkaLz7",
    "outputId": "e8ff8ba4-0816-4c90-f584-c50460dc9359"
   },
   "outputs": [
    {
     "data": {
      "text/html": [
       "\n",
       "  <div id=\"df-105c9388-3988-45de-9267-58ff2949364d\" class=\"colab-df-container\">\n",
       "    <div>\n",
       "<style scoped>\n",
       "    .dataframe tbody tr th:only-of-type {\n",
       "        vertical-align: middle;\n",
       "    }\n",
       "\n",
       "    .dataframe tbody tr th {\n",
       "        vertical-align: top;\n",
       "    }\n",
       "\n",
       "    .dataframe thead th {\n",
       "        text-align: right;\n",
       "    }\n",
       "</style>\n",
       "<table border=\"1\" class=\"dataframe\">\n",
       "  <thead>\n",
       "    <tr style=\"text-align: right;\">\n",
       "      <th></th>\n",
       "      <th>DR_NO</th>\n",
       "      <th>TIME OCC</th>\n",
       "      <th>AREA</th>\n",
       "      <th>Rpt Dist No</th>\n",
       "      <th>Part 1-2</th>\n",
       "      <th>Crm Cd</th>\n",
       "      <th>Vict Age</th>\n",
       "      <th>Premis Cd</th>\n",
       "      <th>LAT</th>\n",
       "      <th>LON</th>\n",
       "    </tr>\n",
       "  </thead>\n",
       "  <tbody>\n",
       "    <tr>\n",
       "      <th>count</th>\n",
       "      <td>829778.00</td>\n",
       "      <td>829778.00</td>\n",
       "      <td>829778.00</td>\n",
       "      <td>829778.00</td>\n",
       "      <td>829778.00</td>\n",
       "      <td>829778.00</td>\n",
       "      <td>829778.00</td>\n",
       "      <td>829778.00</td>\n",
       "      <td>829778.00</td>\n",
       "      <td>829778.00</td>\n",
       "    </tr>\n",
       "    <tr>\n",
       "      <th>mean</th>\n",
       "      <td>216295184.53</td>\n",
       "      <td>1335.88</td>\n",
       "      <td>10.71</td>\n",
       "      <td>1117.38</td>\n",
       "      <td>1.41</td>\n",
       "      <td>500.83</td>\n",
       "      <td>29.79</td>\n",
       "      <td>305.82</td>\n",
       "      <td>33.98</td>\n",
       "      <td>-118.03</td>\n",
       "    </tr>\n",
       "    <tr>\n",
       "      <th>std</th>\n",
       "      <td>10883328.76</td>\n",
       "      <td>653.95</td>\n",
       "      <td>6.09</td>\n",
       "      <td>609.36</td>\n",
       "      <td>0.49</td>\n",
       "      <td>207.79</td>\n",
       "      <td>21.78</td>\n",
       "      <td>216.77</td>\n",
       "      <td>1.78</td>\n",
       "      <td>6.17</td>\n",
       "    </tr>\n",
       "    <tr>\n",
       "      <th>min</th>\n",
       "      <td>817.00</td>\n",
       "      <td>1.00</td>\n",
       "      <td>1.00</td>\n",
       "      <td>101.00</td>\n",
       "      <td>1.00</td>\n",
       "      <td>110.00</td>\n",
       "      <td>-3.00</td>\n",
       "      <td>0.00</td>\n",
       "      <td>0.00</td>\n",
       "      <td>-118.67</td>\n",
       "    </tr>\n",
       "    <tr>\n",
       "      <th>25%</th>\n",
       "      <td>210208424.25</td>\n",
       "      <td>900.00</td>\n",
       "      <td>6.00</td>\n",
       "      <td>621.00</td>\n",
       "      <td>1.00</td>\n",
       "      <td>331.00</td>\n",
       "      <td>6.00</td>\n",
       "      <td>101.00</td>\n",
       "      <td>34.01</td>\n",
       "      <td>-118.43</td>\n",
       "    </tr>\n",
       "    <tr>\n",
       "      <th>50%</th>\n",
       "      <td>220123790.00</td>\n",
       "      <td>1415.00</td>\n",
       "      <td>11.00</td>\n",
       "      <td>1142.00</td>\n",
       "      <td>1.00</td>\n",
       "      <td>442.00</td>\n",
       "      <td>31.00</td>\n",
       "      <td>203.00</td>\n",
       "      <td>34.06</td>\n",
       "      <td>-118.32</td>\n",
       "    </tr>\n",
       "    <tr>\n",
       "      <th>75%</th>\n",
       "      <td>222014958.50</td>\n",
       "      <td>1900.00</td>\n",
       "      <td>16.00</td>\n",
       "      <td>1615.00</td>\n",
       "      <td>2.00</td>\n",
       "      <td>626.00</td>\n",
       "      <td>45.00</td>\n",
       "      <td>501.00</td>\n",
       "      <td>34.16</td>\n",
       "      <td>-118.27</td>\n",
       "    </tr>\n",
       "    <tr>\n",
       "      <th>max</th>\n",
       "      <td>239916487.00</td>\n",
       "      <td>2359.00</td>\n",
       "      <td>21.00</td>\n",
       "      <td>2199.00</td>\n",
       "      <td>2.00</td>\n",
       "      <td>956.00</td>\n",
       "      <td>120.00</td>\n",
       "      <td>976.00</td>\n",
       "      <td>34.33</td>\n",
       "      <td>0.00</td>\n",
       "    </tr>\n",
       "  </tbody>\n",
       "</table>\n",
       "</div>\n",
       "    <div class=\"colab-df-buttons\">\n",
       "\n",
       "  <div class=\"colab-df-container\">\n",
       "    <button class=\"colab-df-convert\" onclick=\"convertToInteractive('df-105c9388-3988-45de-9267-58ff2949364d')\"\n",
       "            title=\"Convert this dataframe to an interactive table.\"\n",
       "            style=\"display:none;\">\n",
       "\n",
       "  <svg xmlns=\"http://www.w3.org/2000/svg\" height=\"24px\" viewBox=\"0 -960 960 960\">\n",
       "    <path d=\"M120-120v-720h720v720H120Zm60-500h600v-160H180v160Zm220 220h160v-160H400v160Zm0 220h160v-160H400v160ZM180-400h160v-160H180v160Zm440 0h160v-160H620v160ZM180-180h160v-160H180v160Zm440 0h160v-160H620v160Z\"/>\n",
       "  </svg>\n",
       "    </button>\n",
       "\n",
       "  <style>\n",
       "    .colab-df-container {\n",
       "      display:flex;\n",
       "      gap: 12px;\n",
       "    }\n",
       "\n",
       "    .colab-df-convert {\n",
       "      background-color: #E8F0FE;\n",
       "      border: none;\n",
       "      border-radius: 50%;\n",
       "      cursor: pointer;\n",
       "      display: none;\n",
       "      fill: #1967D2;\n",
       "      height: 32px;\n",
       "      padding: 0 0 0 0;\n",
       "      width: 32px;\n",
       "    }\n",
       "\n",
       "    .colab-df-convert:hover {\n",
       "      background-color: #E2EBFA;\n",
       "      box-shadow: 0px 1px 2px rgba(60, 64, 67, 0.3), 0px 1px 3px 1px rgba(60, 64, 67, 0.15);\n",
       "      fill: #174EA6;\n",
       "    }\n",
       "\n",
       "    .colab-df-buttons div {\n",
       "      margin-bottom: 4px;\n",
       "    }\n",
       "\n",
       "    [theme=dark] .colab-df-convert {\n",
       "      background-color: #3B4455;\n",
       "      fill: #D2E3FC;\n",
       "    }\n",
       "\n",
       "    [theme=dark] .colab-df-convert:hover {\n",
       "      background-color: #434B5C;\n",
       "      box-shadow: 0px 1px 3px 1px rgba(0, 0, 0, 0.15);\n",
       "      filter: drop-shadow(0px 1px 2px rgba(0, 0, 0, 0.3));\n",
       "      fill: #FFFFFF;\n",
       "    }\n",
       "  </style>\n",
       "\n",
       "    <script>\n",
       "      const buttonEl =\n",
       "        document.querySelector('#df-105c9388-3988-45de-9267-58ff2949364d button.colab-df-convert');\n",
       "      buttonEl.style.display =\n",
       "        google.colab.kernel.accessAllowed ? 'block' : 'none';\n",
       "\n",
       "      async function convertToInteractive(key) {\n",
       "        const element = document.querySelector('#df-105c9388-3988-45de-9267-58ff2949364d');\n",
       "        const dataTable =\n",
       "          await google.colab.kernel.invokeFunction('convertToInteractive',\n",
       "                                                    [key], {});\n",
       "        if (!dataTable) return;\n",
       "\n",
       "        const docLinkHtml = 'Like what you see? Visit the ' +\n",
       "          '<a target=\"_blank\" href=https://colab.research.google.com/notebooks/data_table.ipynb>data table notebook</a>'\n",
       "          + ' to learn more about interactive tables.';\n",
       "        element.innerHTML = '';\n",
       "        dataTable['output_type'] = 'display_data';\n",
       "        await google.colab.output.renderOutput(dataTable, element);\n",
       "        const docLink = document.createElement('div');\n",
       "        docLink.innerHTML = docLinkHtml;\n",
       "        element.appendChild(docLink);\n",
       "      }\n",
       "    </script>\n",
       "  </div>\n",
       "\n",
       "\n",
       "<div id=\"df-9164bce6-8ca7-42ce-931a-b227d7561ba8\">\n",
       "  <button class=\"colab-df-quickchart\" onclick=\"quickchart('df-9164bce6-8ca7-42ce-931a-b227d7561ba8')\"\n",
       "            title=\"Suggest charts\"\n",
       "            style=\"display:none;\">\n",
       "\n",
       "<svg xmlns=\"http://www.w3.org/2000/svg\" height=\"24px\"viewBox=\"0 0 24 24\"\n",
       "     width=\"24px\">\n",
       "    <g>\n",
       "        <path d=\"M19 3H5c-1.1 0-2 .9-2 2v14c0 1.1.9 2 2 2h14c1.1 0 2-.9 2-2V5c0-1.1-.9-2-2-2zM9 17H7v-7h2v7zm4 0h-2V7h2v10zm4 0h-2v-4h2v4z\"/>\n",
       "    </g>\n",
       "</svg>\n",
       "  </button>\n",
       "\n",
       "<style>\n",
       "  .colab-df-quickchart {\n",
       "      --bg-color: #E8F0FE;\n",
       "      --fill-color: #1967D2;\n",
       "      --hover-bg-color: #E2EBFA;\n",
       "      --hover-fill-color: #174EA6;\n",
       "      --disabled-fill-color: #AAA;\n",
       "      --disabled-bg-color: #DDD;\n",
       "  }\n",
       "\n",
       "  [theme=dark] .colab-df-quickchart {\n",
       "      --bg-color: #3B4455;\n",
       "      --fill-color: #D2E3FC;\n",
       "      --hover-bg-color: #434B5C;\n",
       "      --hover-fill-color: #FFFFFF;\n",
       "      --disabled-bg-color: #3B4455;\n",
       "      --disabled-fill-color: #666;\n",
       "  }\n",
       "\n",
       "  .colab-df-quickchart {\n",
       "    background-color: var(--bg-color);\n",
       "    border: none;\n",
       "    border-radius: 50%;\n",
       "    cursor: pointer;\n",
       "    display: none;\n",
       "    fill: var(--fill-color);\n",
       "    height: 32px;\n",
       "    padding: 0;\n",
       "    width: 32px;\n",
       "  }\n",
       "\n",
       "  .colab-df-quickchart:hover {\n",
       "    background-color: var(--hover-bg-color);\n",
       "    box-shadow: 0 1px 2px rgba(60, 64, 67, 0.3), 0 1px 3px 1px rgba(60, 64, 67, 0.15);\n",
       "    fill: var(--button-hover-fill-color);\n",
       "  }\n",
       "\n",
       "  .colab-df-quickchart-complete:disabled,\n",
       "  .colab-df-quickchart-complete:disabled:hover {\n",
       "    background-color: var(--disabled-bg-color);\n",
       "    fill: var(--disabled-fill-color);\n",
       "    box-shadow: none;\n",
       "  }\n",
       "\n",
       "  .colab-df-spinner {\n",
       "    border: 2px solid var(--fill-color);\n",
       "    border-color: transparent;\n",
       "    border-bottom-color: var(--fill-color);\n",
       "    animation:\n",
       "      spin 1s steps(1) infinite;\n",
       "  }\n",
       "\n",
       "  @keyframes spin {\n",
       "    0% {\n",
       "      border-color: transparent;\n",
       "      border-bottom-color: var(--fill-color);\n",
       "      border-left-color: var(--fill-color);\n",
       "    }\n",
       "    20% {\n",
       "      border-color: transparent;\n",
       "      border-left-color: var(--fill-color);\n",
       "      border-top-color: var(--fill-color);\n",
       "    }\n",
       "    30% {\n",
       "      border-color: transparent;\n",
       "      border-left-color: var(--fill-color);\n",
       "      border-top-color: var(--fill-color);\n",
       "      border-right-color: var(--fill-color);\n",
       "    }\n",
       "    40% {\n",
       "      border-color: transparent;\n",
       "      border-right-color: var(--fill-color);\n",
       "      border-top-color: var(--fill-color);\n",
       "    }\n",
       "    60% {\n",
       "      border-color: transparent;\n",
       "      border-right-color: var(--fill-color);\n",
       "    }\n",
       "    80% {\n",
       "      border-color: transparent;\n",
       "      border-right-color: var(--fill-color);\n",
       "      border-bottom-color: var(--fill-color);\n",
       "    }\n",
       "    90% {\n",
       "      border-color: transparent;\n",
       "      border-bottom-color: var(--fill-color);\n",
       "    }\n",
       "  }\n",
       "</style>\n",
       "\n",
       "  <script>\n",
       "    async function quickchart(key) {\n",
       "      const quickchartButtonEl =\n",
       "        document.querySelector('#' + key + ' button');\n",
       "      quickchartButtonEl.disabled = true;  // To prevent multiple clicks.\n",
       "      quickchartButtonEl.classList.add('colab-df-spinner');\n",
       "      try {\n",
       "        const charts = await google.colab.kernel.invokeFunction(\n",
       "            'suggestCharts', [key], {});\n",
       "      } catch (error) {\n",
       "        console.error('Error during call to suggestCharts:', error);\n",
       "      }\n",
       "      quickchartButtonEl.classList.remove('colab-df-spinner');\n",
       "      quickchartButtonEl.classList.add('colab-df-quickchart-complete');\n",
       "    }\n",
       "    (() => {\n",
       "      let quickchartButtonEl =\n",
       "        document.querySelector('#df-9164bce6-8ca7-42ce-931a-b227d7561ba8 button');\n",
       "      quickchartButtonEl.style.display =\n",
       "        google.colab.kernel.accessAllowed ? 'block' : 'none';\n",
       "    })();\n",
       "  </script>\n",
       "</div>\n",
       "\n",
       "    </div>\n",
       "  </div>\n"
      ],
      "text/plain": [
       "              DR_NO   TIME OCC       AREA Rpt Dist No   Part 1-2     Crm Cd  \\\n",
       "count     829778.00  829778.00  829778.00   829778.00  829778.00  829778.00   \n",
       "mean   216295184.53    1335.88      10.71     1117.38       1.41     500.83   \n",
       "std     10883328.76     653.95       6.09      609.36       0.49     207.79   \n",
       "min          817.00       1.00       1.00      101.00       1.00     110.00   \n",
       "25%    210208424.25     900.00       6.00      621.00       1.00     331.00   \n",
       "50%    220123790.00    1415.00      11.00     1142.00       1.00     442.00   \n",
       "75%    222014958.50    1900.00      16.00     1615.00       2.00     626.00   \n",
       "max    239916487.00    2359.00      21.00     2199.00       2.00     956.00   \n",
       "\n",
       "        Vict Age  Premis Cd        LAT        LON  \n",
       "count  829778.00  829778.00  829778.00  829778.00  \n",
       "mean       29.79     305.82      33.98    -118.03  \n",
       "std        21.78     216.77       1.78       6.17  \n",
       "min        -3.00       0.00       0.00    -118.67  \n",
       "25%         6.00     101.00      34.01    -118.43  \n",
       "50%        31.00     203.00      34.06    -118.32  \n",
       "75%        45.00     501.00      34.16    -118.27  \n",
       "max       120.00     976.00      34.33       0.00  "
      ]
     },
     "execution_count": 294,
     "metadata": {},
     "output_type": "execute_result"
    }
   ],
   "source": [
    "df.describe().apply(lambda s: s.apply('{0:.2f}'.format))"
   ]
  },
  {
   "cell_type": "markdown",
   "metadata": {
    "id": "QEhisQdUf9Z2"
   },
   "source": [
    "## Victim sex data cleaning"
   ]
  },
  {
   "cell_type": "code",
   "execution_count": null,
   "metadata": {
    "colab": {
     "base_uri": "https://localhost:8080/"
    },
    "id": "IznarRchaLz7",
    "outputId": "94078f70-e4e7-42c3-9752-c6c1f5783820"
   },
   "outputs": [
    {
     "data": {
      "text/plain": [
       "M    342350\n",
       "F    305479\n",
       "X     72559\n",
       "H        90\n",
       "-         1\n",
       "Name: Vict Sex, dtype: int64"
      ]
     },
     "execution_count": 295,
     "metadata": {},
     "output_type": "execute_result"
    }
   ],
   "source": [
    "df['Vict Sex'].value_counts()"
   ]
  },
  {
   "cell_type": "code",
   "execution_count": null,
   "metadata": {
    "id": "KNmE9HD3aLz8"
   },
   "outputs": [],
   "source": [
    "# replacing H, X and missing values with X indicating unknown\n",
    "df['Vict Sex'].replace(to_replace=['H', '-', 'N'], value='X', inplace = True)\n",
    "df['Vict Sex'].fillna('X', inplace= True)"
   ]
  },
  {
   "cell_type": "code",
   "execution_count": null,
   "metadata": {
    "colab": {
     "base_uri": "https://localhost:8080/"
    },
    "id": "y70sicEyaLz8",
    "outputId": "f17b4a3a-a7e5-4861-8e11-cb6eab55f0ec"
   },
   "outputs": [
    {
     "data": {
      "text/plain": [
       "array(['F', 'M', 'X'], dtype=object)"
      ]
     },
     "execution_count": 297,
     "metadata": {},
     "output_type": "execute_result"
    }
   ],
   "source": [
    "df['Vict Sex'].unique()"
   ]
  },
  {
   "cell_type": "markdown",
   "metadata": {
    "id": "UtAL2T3_NKdB"
   },
   "source": [
    "## Victim Age cleaning"
   ]
  },
  {
   "cell_type": "code",
   "execution_count": null,
   "metadata": {
    "colab": {
     "base_uri": "https://localhost:8080/"
    },
    "id": "GLXjQa8raLz8",
    "outputId": "285d62e2-7949-4acc-b100-56f72ec0a84f"
   },
   "outputs": [
    {
     "data": {
      "text/plain": [
       "71"
      ]
     },
     "execution_count": 298,
     "metadata": {},
     "output_type": "execute_result"
    }
   ],
   "source": [
    "df[df['Vict Age'] < 0]['Vict Age'].count()"
   ]
  },
  {
   "cell_type": "markdown",
   "metadata": {
    "id": "vsgy5g-FNR5E"
   },
   "source": [
    "> A person cannot be under the age of 0 so replacing all instances less than 0 with 0"
   ]
  },
  {
   "cell_type": "code",
   "execution_count": null,
   "metadata": {
    "colab": {
     "base_uri": "https://localhost:8080/"
    },
    "id": "IV-qhGZlgPEb",
    "outputId": "a6e1fc26-4120-4467-8878-f1173ffcef08"
   },
   "outputs": [
    {
     "data": {
      "text/plain": [
       "array([ 36,  25,   0,  76,  31,  23,  29,  35,  41,  24,  34,  46,  66,\n",
       "        40,  27,  62,  43,  71,  50,  19,  51,  33,  69,  39,  57,  78,\n",
       "        52,  38,  55,  44,  18,  54,  22,  28,  42,  56,  67,  37,  60,\n",
       "        61,  59,  32,  30,  45,  20,  15,  58,  47,  48,  26,  21,  64,\n",
       "        75,  12,  49,  68,  14,  13,  10,  53,  74,  65,  63,   8,  16,\n",
       "        72,  70,   9,  90,  85,  81,  79,  94,  73,  11,  17,  80,   5,\n",
       "        82,   2,  77,  84,  88,  96,  99,   7,  86,  92,   3,  83,  87,\n",
       "         6,  -1,  89,   4,  93,  98,  91,  95,  97, 120,  -2,  -3])"
      ]
     },
     "execution_count": 299,
     "metadata": {},
     "output_type": "execute_result"
    }
   ],
   "source": [
    "df['Vict Age'].unique()"
   ]
  },
  {
   "cell_type": "markdown",
   "metadata": {
    "id": "1bICLm-Mg7x6"
   },
   "source": [
    "> It appears that there are bunch of negative ages which is impossible"
   ]
  },
  {
   "cell_type": "markdown",
   "metadata": {
    "id": "TqxxVt4DhBmn"
   },
   "source": [
    "### Replacing negative ages with 0"
   ]
  },
  {
   "cell_type": "code",
   "execution_count": null,
   "metadata": {
    "id": "tm-Y6r0naLz8"
   },
   "outputs": [],
   "source": [
    "df['Vict Age'] = np.where((df['Vict Age'] < 0), 0,df['Vict Age'])"
   ]
  },
  {
   "cell_type": "code",
   "execution_count": null,
   "metadata": {
    "colab": {
     "base_uri": "https://localhost:8080/"
    },
    "id": "egS_S3GiNikN",
    "outputId": "4248e2fb-a87f-4f95-cc93-a59ef0459ec4"
   },
   "outputs": [
    {
     "data": {
      "text/plain": [
       "0"
      ]
     },
     "execution_count": 301,
     "metadata": {},
     "output_type": "execute_result"
    }
   ],
   "source": [
    "df[df['Vict Age'] < 0]['Vict Age'].count()"
   ]
  },
  {
   "cell_type": "code",
   "execution_count": null,
   "metadata": {
    "colab": {
     "base_uri": "https://localhost:8080/"
    },
    "id": "xTsCW8kkaLz8",
    "outputId": "ae5287e2-ade1-489e-dcbf-6a7b2aaa3896"
   },
   "outputs": [
    {
     "data": {
      "text/plain": [
       "0"
      ]
     },
     "execution_count": 302,
     "metadata": {},
     "output_type": "execute_result"
    }
   ],
   "source": [
    "df['Vict Age'].isna().sum()"
   ]
  },
  {
   "cell_type": "markdown",
   "metadata": {
    "id": "ldK09wUpgj3l"
   },
   "source": [
    "## Victim Desent"
   ]
  },
  {
   "cell_type": "code",
   "execution_count": null,
   "metadata": {
    "colab": {
     "base_uri": "https://localhost:8080/"
    },
    "id": "MzMbbp90aLz8",
    "outputId": "d2d237fd-6a98-43ad-a146-6bfa95b1ec95"
   },
   "outputs": [
    {
     "data": {
      "text/plain": [
       "H    254505\n",
       "W    168980\n",
       "B    118097\n",
       "X     80124\n",
       "O     65732\n",
       "A     18161\n",
       "K      4422\n",
       "F      3450\n",
       "C      3192\n",
       "J      1151\n",
       "V       858\n",
       "I       780\n",
       "Z       412\n",
       "P       222\n",
       "U       167\n",
       "D        62\n",
       "G        58\n",
       "L        50\n",
       "S        46\n",
       "-         2\n",
       "Name: Vict Descent, dtype: int64"
      ]
     },
     "execution_count": 303,
     "metadata": {},
     "output_type": "execute_result"
    }
   ],
   "source": [
    "df['Vict Descent'].value_counts()"
   ]
  },
  {
   "cell_type": "code",
   "execution_count": null,
   "metadata": {
    "id": "UsKMAzyCaLz8"
   },
   "outputs": [],
   "source": [
    "descent_dict ={'A': 'Other Asian', 'B': 'Black', 'C': 'Chinese',\n",
    "               'D': 'Cambodian', 'F': 'Filipino', 'G': 'Guamanian',\n",
    "               'H': 'Latinx', 'I': 'Native', 'J': 'Japanese',\n",
    "               'K': 'Korean', 'L': 'Laotian', 'O': 'Other',\n",
    "               'P': 'Pacific Islander', 'S': 'Samoan', 'U': 'Hawaiian',\n",
    "               'V': 'Vietnamese', 'W': 'White',  'X': 'Unknown', 'Z':'Asian Indian'}\n",
    "df['Vict Descent'].fillna('X', inplace= True)"
   ]
  },
  {
   "cell_type": "code",
   "execution_count": null,
   "metadata": {
    "id": "md4oT8M8aLz8"
   },
   "outputs": [],
   "source": [
    "df['Vict Descent'].replace(to_replace=['-'], value='X', inplace = True)"
   ]
  },
  {
   "cell_type": "markdown",
   "metadata": {
    "id": "y3dDxnWjN2W7"
   },
   "source": [
    "## Fully Cleaned Data Set"
   ]
  },
  {
   "cell_type": "code",
   "execution_count": null,
   "metadata": {
    "colab": {
     "base_uri": "https://localhost:8080/"
    },
    "id": "cqTllbwqaLz8",
    "outputId": "2536d649-f35c-47e1-ccdd-ee6404cea26d"
   },
   "outputs": [
    {
     "data": {
      "text/plain": [
       "DR_NO           0\n",
       "DATE OCC        0\n",
       "TIME OCC        0\n",
       "AREA            0\n",
       "AREA NAME       0\n",
       "Rpt Dist No     0\n",
       "Part 1-2        0\n",
       "Crm Cd          0\n",
       "Crm Cd Desc     0\n",
       "Vict Age        0\n",
       "Vict Sex        0\n",
       "Vict Descent    0\n",
       "Premis Cd       0\n",
       "Premis Desc     0\n",
       "Status          0\n",
       "Status Desc     0\n",
       "LOCATION        0\n",
       "LAT             0\n",
       "LON             0\n",
       "dtype: int64"
      ]
     },
     "execution_count": 306,
     "metadata": {},
     "output_type": "execute_result"
    }
   ],
   "source": [
    "df.isna().sum()"
   ]
  },
  {
   "cell_type": "code",
   "execution_count": null,
   "metadata": {
    "colab": {
     "base_uri": "https://localhost:8080/"
    },
    "id": "t7vjC_suaLz9",
    "outputId": "4df7debd-94f3-447c-f8ff-b035327f32e5"
   },
   "outputs": [
    {
     "data": {
      "text/plain": [
       "138"
      ]
     },
     "execution_count": 307,
     "metadata": {},
     "output_type": "execute_result"
    }
   ],
   "source": [
    "df['Crm Cd Desc'].value_counts().count()"
   ]
  },
  {
   "cell_type": "code",
   "execution_count": null,
   "metadata": {
    "id": "U4tQwf58aLz9"
   },
   "outputs": [],
   "source": [
    "def dictionary_maker(key_feature, value_feature):\n",
    "    '''\n",
    "    this function takes in two features\n",
    "    and returns a dictionary with the unique values\n",
    "    from the two features as key and values\n",
    "    '''\n",
    "    # dictionary key\n",
    "    key= list(df[key_feature].value_counts().index)\n",
    "\n",
    "    #dictionary value\n",
    "    value= list(df[value_feature].value_counts().index)\n",
    "\n",
    "    #dictionary\n",
    "    dictionary = {key[i]:value[i] for i in range(len(key))}\n",
    "\n",
    "    return dictionary"
   ]
  },
  {
   "cell_type": "code",
   "execution_count": null,
   "metadata": {
    "id": "Qr4XOdf_aLz9"
   },
   "outputs": [],
   "source": [
    "area_dict = dictionary_maker('AREA', 'AREA NAME')\n",
    "crime_dict = dictionary_maker('Crm Cd', 'Crm Cd Desc')"
   ]
  },
  {
   "cell_type": "code",
   "execution_count": null,
   "metadata": {
    "colab": {
     "base_uri": "https://localhost:8080/"
    },
    "id": "In53kliTOSkf",
    "outputId": "bff47916-8175-429a-ca49-31b5d63c6110"
   },
   "outputs": [
    {
     "data": {
      "text/plain": [
       "{1: 'Central',\n",
       " 12: '77th Street',\n",
       " 14: 'Pacific',\n",
       " 3: 'Southwest',\n",
       " 6: 'Hollywood',\n",
       " 18: 'Southeast',\n",
       " 20: 'Olympic',\n",
       " 13: 'Newton',\n",
       " 15: 'N Hollywood',\n",
       " 7: 'Wilshire',\n",
       " 2: 'Rampart',\n",
       " 8: 'West LA',\n",
       " 11: 'Northeast',\n",
       " 9: 'Van Nuys',\n",
       " 10: 'West Valley',\n",
       " 5: 'Harbor',\n",
       " 21: 'Topanga',\n",
       " 17: 'Devonshire',\n",
       " 19: 'Mission',\n",
       " 4: 'Hollenbeck',\n",
       " 16: 'Foothill'}"
      ]
     },
     "execution_count": 310,
     "metadata": {},
     "output_type": "execute_result"
    }
   ],
   "source": [
    "area_dict"
   ]
  },
  {
   "cell_type": "code",
   "execution_count": null,
   "metadata": {
    "colab": {
     "base_uri": "https://localhost:8080/"
    },
    "id": "bJ7u0fzMOa2F",
    "outputId": "f25ee0bb-1ae0-4562-f6b8-f942127cfb96"
   },
   "outputs": [
    {
     "data": {
      "text/plain": [
       "{510: 'VEHICLE - STOLEN',\n",
       " 624: 'BATTERY - SIMPLE ASSAULT',\n",
       " 354: 'THEFT OF IDENTITY',\n",
       " 330: 'BURGLARY FROM VEHICLE',\n",
       " 740: 'VANDALISM - FELONY ($400 & OVER, ALL CHURCH VANDALISMS)',\n",
       " 310: 'BURGLARY',\n",
       " 230: 'ASSAULT WITH DEADLY WEAPON, AGGRAVATED ASSAULT',\n",
       " 440: 'THEFT PLAIN - PETTY ($950 & UNDER)',\n",
       " 626: 'INTIMATE PARTNER - SIMPLE ASSAULT',\n",
       " 420: 'THEFT FROM MOTOR VEHICLE - PETTY ($950 & UNDER)',\n",
       " 331: 'THEFT FROM MOTOR VEHICLE - GRAND ($950.01 AND OVER)',\n",
       " 210: 'ROBBERY',\n",
       " 341: 'THEFT-GRAND ($950.01 & OVER)EXCPT,GUNS,FOWL,LIVESTK,PROD',\n",
       " 745: 'VANDALISM - MISDEAMEANOR ($399 OR UNDER)',\n",
       " 442: 'SHOPLIFTING - PETTY THEFT ($950 & UNDER)',\n",
       " 930: 'CRIMINAL THREATS - NO WEAPON DISPLAYED',\n",
       " 761: 'BRANDISH WEAPON',\n",
       " 888: 'TRESPASSING',\n",
       " 236: 'INTIMATE PARTNER - AGGRAVATED ASSAULT',\n",
       " 901: 'VIOLATION OF RESTRAINING ORDER',\n",
       " 480: 'BIKE - STOLEN',\n",
       " 956: 'LETTERS, LEWD  -  TELEPHONE CALLS, LEWD',\n",
       " 946: 'OTHER MISCELLANEOUS CRIME',\n",
       " 900: 'VIOLATION OF COURT ORDER',\n",
       " 662: 'BUNCO, GRAND THEFT',\n",
       " 220: 'ATTEMPTED ROBBERY',\n",
       " 343: 'SHOPLIFTING-GRAND THEFT ($950.01 & OVER)',\n",
       " 625: 'OTHER ASSAULT',\n",
       " 350: 'THEFT, PERSON',\n",
       " 860: 'BATTERY WITH SEXUAL CONTACT',\n",
       " 320: 'BURGLARY, ATTEMPTED',\n",
       " 668: 'EMBEZZLEMENT, GRAND THEFT ($950.01 & OVER)',\n",
       " 121: 'RAPE, FORCIBLE',\n",
       " 627: 'CHILD ABUSE (PHYSICAL) - SIMPLE ASSAULT',\n",
       " 520: 'VEHICLE - ATTEMPT STOLEN',\n",
       " 649: 'DOCUMENT FORGERY / STOLEN FELONY',\n",
       " 903: 'CONTEMPT OF COURT',\n",
       " 753: 'DISCHARGE FIREARMS/SHOTS FIRED',\n",
       " 648: 'ARSON',\n",
       " 623: 'BATTERY POLICE (SIMPLE)',\n",
       " 352: 'PICKPOCKET',\n",
       " 664: 'BUNCO, PETTY THEFT',\n",
       " 940: 'EXTORTION',\n",
       " 522: 'VEHICLE, STOLEN - OTHER (MOTORIZED SCOOTERS, BIKES, ETC)',\n",
       " 812: 'CRM AGNST CHLD (13 OR UNDER) (14-15 & SUSP 10 YRS OLDER)',\n",
       " 251: 'SHOTS FIRED AT INHABITED DWELLING',\n",
       " 110: 'CRIMINAL HOMICIDE',\n",
       " 886: 'DISTURBING THE PEACE',\n",
       " 890: 'FAILURE TO YIELD',\n",
       " 815: 'SEXUAL PENETRATION W/FOREIGN OBJECT',\n",
       " 850: 'INDECENT EXPOSURE',\n",
       " 237: 'CHILD NEGLECT (SEE 300 W.I.C.)',\n",
       " 231: 'ASSAULT WITH DEADLY WEAPON ON POLICE OFFICER',\n",
       " 813: 'CHILD ANNOYING (17YRS & UNDER)',\n",
       " 810: 'SEX,UNLAWFUL(INC MUTUAL CONSENT, PENETRATION W/ FRGN OBJ',\n",
       " 437: 'RESISTING ARREST',\n",
       " 845: 'SEX OFFENDER REGISTRANT OUT OF COMPLIANCE',\n",
       " 902: 'VIOLATION OF TEMPORARY RESTRAINING ORDER',\n",
       " 421: 'THEFT FROM MOTOR VEHICLE - ATTEMPT',\n",
       " 910: 'KIDNAPPING',\n",
       " 647: 'THROWING OBJECT AT MOVING VEHICLE',\n",
       " 820: 'ORAL COPULATION',\n",
       " 410: 'BURGLARY FROM VEHICLE, ATTEMPTED',\n",
       " 762: 'LEWD CONDUCT',\n",
       " 763: 'STALKING',\n",
       " 235: 'CHILD ABUSE (PHYSICAL) - AGGRAVATED ASSAULT',\n",
       " 661: 'UNAUTHORIZED COMPUTER ACCESS',\n",
       " 821: 'SODOMY/SEXUAL CONTACT B/W PENIS OF ONE PERS TO ANUS OTH',\n",
       " 928: 'THREATENING PHONE CALLS/LETTERS',\n",
       " 250: 'SHOTS FIRED AT MOVING VEHICLE, TRAIN OR AIRCRAFT',\n",
       " 441: 'THEFT PLAIN - ATTEMPT',\n",
       " 922: 'CHILD STEALING',\n",
       " 822: 'HUMAN TRAFFICKING - COMMERCIAL SEX ACTS',\n",
       " 755: 'BOMB SCARE',\n",
       " 932: 'PEEPING TOM',\n",
       " 434: 'FALSE IMPRISONMENT',\n",
       " 122: 'RAPE, ATTEMPTED',\n",
       " 951: 'DEFRAUDING INNKEEPER/THEFT OF SERVICES, $950 & UNDER',\n",
       " 666: 'BUNCO, ATTEMPT',\n",
       " 943: 'CRUELTY TO ANIMALS',\n",
       " 438: 'RECKLESS DRIVING',\n",
       " 622: 'BATTERY ON A FIREFIGHTER',\n",
       " 814: 'CHILD PORNOGRAPHY',\n",
       " 920: 'KIDNAPPING - GRAND ATTEMPT',\n",
       " 933: 'PROWLER',\n",
       " 433: 'DRIVING WITHOUT OWNER CONSENT (DWOC)',\n",
       " 439: 'FALSE POLICE REPORT',\n",
       " 805: 'PIMPING',\n",
       " 806: 'PANDERING',\n",
       " 487: 'BOAT - STOLEN',\n",
       " 670: 'EMBEZZLEMENT, PETTY THEFT ($950 & UNDER)',\n",
       " 660: 'COUNTERFEIT',\n",
       " 653: 'CREDIT CARDS, FRAUD USE ($950.01 & OVER)',\n",
       " 450: 'THEFT FROM PERSON - ATTEMPT',\n",
       " 351: 'PURSE SNATCHING',\n",
       " 921: 'HUMAN TRAFFICKING - INVOLUNTARY SERVITUDE',\n",
       " 443: 'SHOPLIFTING - ATTEMPT',\n",
       " 949: 'ILLEGAL DUMPING',\n",
       " 654: 'CREDIT CARDS, FRAUD USE ($950 & UNDER',\n",
       " 760: 'LEWD/LASCIVIOUS ACTS WITH CHILD',\n",
       " 950: 'DEFRAUDING INNKEEPER/THEFT OF SERVICES, OVER $950.01',\n",
       " 651: 'DOCUMENT WORTHLESS ($200.01 & OVER)',\n",
       " 954: 'CONTRIBUTING',\n",
       " 345: 'DISHONEST EMPLOYEE - GRAND THEFT',\n",
       " 756: 'WEAPONS POSSESSION/BOMBING',\n",
       " 353: 'DRUNK ROLL',\n",
       " 652: 'DOCUMENT WORTHLESS ($200 & UNDER)',\n",
       " 471: 'TILL TAP - PETTY ($950 & UNDER)',\n",
       " 870: 'CHILD ABANDONMENT',\n",
       " 444: 'DISHONEST EMPLOYEE - PETTY THEFT',\n",
       " 435: 'LYNCHING',\n",
       " 944: 'CONSPIRACY',\n",
       " 474: 'THEFT, COIN MACHINE - PETTY ($950 & UNDER)',\n",
       " 470: 'TILL TAP - GRAND THEFT ($950.01 & OVER)',\n",
       " 880: 'DISRUPT SCHOOL',\n",
       " 451: 'PURSE SNATCHING - ATTEMPT',\n",
       " 436: 'LYNCHING - ATTEMPTED',\n",
       " 931: 'REPLICA FIREARMS(SALE,DISPLAY,MANUFACTURE OR DISTRIBUTE)',\n",
       " 865: 'DRUGS, TO A MINOR',\n",
       " 840: 'BEASTIALITY, CRIME AGAINST NATURE SEXUAL ASSLT WITH ANIM',\n",
       " 446: 'PETTY THEFT - AUTO REPAIR',\n",
       " 473: 'THEFT, COIN MACHINE - GRAND ($950.01 & OVER)',\n",
       " 942: 'BRIBERY',\n",
       " 113: 'MANSLAUGHTER, NEGLIGENT',\n",
       " 347: 'GRAND THEFT / INSURANCE FRAUD',\n",
       " 924: 'TELEPHONE PROPERTY - DAMAGE',\n",
       " 452: 'PICKPOCKET, ATTEMPT',\n",
       " 485: 'BIKE - ATTEMPTED STOLEN',\n",
       " 904: 'FIREARMS EMERGENCY PROTECTIVE ORDER (FIREARMS EPO)',\n",
       " 432: 'BLOCKING DOOR INDUCTION CENTER',\n",
       " 830: 'INCEST (SEXUAL ACTS BETWEEN BLOOD RELATIVES)',\n",
       " 475: 'THEFT, COIN MACHINE - ATTEMPT',\n",
       " 948: 'BIGAMY',\n",
       " 349: 'GRAND THEFT / AUTO REPAIR',\n",
       " 906: 'FIREARMS RESTRAINING ORDER (FIREARMS RO)',\n",
       " 884: 'FAILURE TO DISPERSE',\n",
       " 445: 'DISHONEST EMPLOYEE ATTEMPTED THEFT',\n",
       " 882: 'INCITING A RIOT'}"
      ]
     },
     "execution_count": 311,
     "metadata": {},
     "output_type": "execute_result"
    }
   ],
   "source": [
    "crime_dict"
   ]
  },
  {
   "cell_type": "code",
   "execution_count": null,
   "metadata": {
    "colab": {
     "base_uri": "https://localhost:8080/"
    },
    "id": "QUwTjuEcaLz9",
    "outputId": "32eba979-256a-4807-e781-5eb0bb274f8c"
   },
   "outputs": [
    {
     "data": {
      "text/plain": [
       "IC    663996\n",
       "AO     89356\n",
       "AA     72296\n",
       "JA      2693\n",
       "JO      1433\n",
       "CC         4\n",
       "Name: Status, dtype: int64"
      ]
     },
     "execution_count": 312,
     "metadata": {},
     "output_type": "execute_result"
    }
   ],
   "source": [
    "df['Status'].value_counts()"
   ]
  },
  {
   "cell_type": "code",
   "execution_count": null,
   "metadata": {
    "id": "ULQwDaqhiQr2"
   },
   "outputs": [],
   "source": [
    "df['Status Desc'].replace(to_replace=['CC'], value='UNK', inplace = True)"
   ]
  },
  {
   "cell_type": "code",
   "execution_count": null,
   "metadata": {
    "colab": {
     "base_uri": "https://localhost:8080/"
    },
    "id": "EmLjDIPhaL0B",
    "outputId": "8729be8c-3417-46f2-f5a3-58eef5bdda00"
   },
   "outputs": [
    {
     "data": {
      "text/plain": [
       "Invest Cont     663996\n",
       "Adult Other      89356\n",
       "Adult Arrest     72296\n",
       "Juv Arrest        2693\n",
       "Juv Other         1433\n",
       "UNK                  4\n",
       "Name: Status Desc, dtype: int64"
      ]
     },
     "execution_count": 314,
     "metadata": {},
     "output_type": "execute_result"
    }
   ],
   "source": [
    "df['Status Desc'].value_counts()"
   ]
  },
  {
   "cell_type": "code",
   "execution_count": null,
   "metadata": {
    "colab": {
     "base_uri": "https://localhost:8080/"
    },
    "id": "RO_MEkXRaL0B",
    "outputId": "a3f9d8c3-d518-40b0-c8c8-3d68f900d09e",
    "scrolled": false
   },
   "outputs": [
    {
     "data": {
      "text/plain": [
       "STREET                                          209976\n",
       "SINGLE FAMILY DWELLING                          140565\n",
       "MULTI-UNIT DWELLING (APARTMENT, DUPLEX, ETC)    101869\n",
       "PARKING LOT                                      58096\n",
       "OTHER BUSINESS                                   39130\n",
       "                                                 ...  \n",
       "DEPT OF DEFENSE FACILITY                             2\n",
       "SEWAGE FACILITY/PIPE                                 2\n",
       "HORSE RACING/SANTA ANITA PARK*                       2\n",
       "MTA - SILVER LINE - DOWNTOWN STREET STOPS            2\n",
       "TRAM/STREETCAR(BOXLIKE WAG ON RAILS)*                1\n",
       "Name: Premis Desc, Length: 307, dtype: int64"
      ]
     },
     "execution_count": 315,
     "metadata": {},
     "output_type": "execute_result"
    }
   ],
   "source": [
    "df['Premis Desc'].value_counts()\n",
    "# df[df['Premise Description']=='UNKNOWN']"
   ]
  },
  {
   "cell_type": "code",
   "execution_count": null,
   "metadata": {
    "id": "TCjanGLPaL0B"
   },
   "outputs": [],
   "source": [
    "df['Premis Cd'] = np.where(df['Premis Desc']== 'UNKNOWN', 0.0, df['Premis Cd'])"
   ]
  },
  {
   "cell_type": "code",
   "execution_count": null,
   "metadata": {
    "colab": {
     "base_uri": "https://localhost:8080/"
    },
    "id": "1iLpVTYIaL0B",
    "outputId": "dda31e80-ace6-4bfa-c548-137a832789e9"
   },
   "outputs": [
    {
     "data": {
      "text/plain": [
       "Index(['DR_NO', 'DATE OCC', 'TIME OCC', 'AREA', 'AREA NAME', 'Rpt Dist No',\n",
       "       'Part 1-2', 'Crm Cd', 'Crm Cd Desc', 'Vict Age', 'Vict Sex',\n",
       "       'Vict Descent', 'Premis Cd', 'Premis Desc', 'Status', 'Status Desc',\n",
       "       'LOCATION', 'LAT', 'LON'],\n",
       "      dtype='object')"
      ]
     },
     "execution_count": 317,
     "metadata": {},
     "output_type": "execute_result"
    }
   ],
   "source": [
    "df.columns"
   ]
  },
  {
   "cell_type": "code",
   "execution_count": null,
   "metadata": {
    "colab": {
     "base_uri": "https://localhost:8080/"
    },
    "id": "RSkQ6GVeaL0C",
    "outputId": "82d08de1-9107-4ed2-d475-e48ca40f2ebf"
   },
   "outputs": [
    {
     "data": {
      "text/plain": [
       "Index(['DR_NO', 'DATE OCC', 'TIME OCC', 'AREA', 'AREA NAME', 'Rpt Dist No',\n",
       "       'Part 1-2', 'Crm Cd', 'Crm Cd Desc', 'Vict Age', 'Vict Sex',\n",
       "       'Vict Descent', 'Premis Cd', 'Premis Desc', 'Status', 'Status Desc',\n",
       "       'LOCATION', 'LAT', 'LON'],\n",
       "      dtype='object')"
      ]
     },
     "execution_count": 318,
     "metadata": {},
     "output_type": "execute_result"
    }
   ],
   "source": [
    "df.columns"
   ]
  },
  {
   "cell_type": "markdown",
   "metadata": {
    "id": "CbZ6648zaL0C"
   },
   "source": [
    "####  Location Column Cleaning"
   ]
  },
  {
   "cell_type": "code",
   "execution_count": null,
   "metadata": {
    "colab": {
     "base_uri": "https://localhost:8080/"
    },
    "id": "kn0ycam8aL0C",
    "outputId": "eaea3008-e119-4946-b170-f8703569d469"
   },
   "outputs": [
    {
     "data": {
      "text/html": [
       "\n",
       "  <div id=\"df-47808df2-8793-44a1-b8c1-38c8dadac7bc\" class=\"colab-df-container\">\n",
       "    <div>\n",
       "<style scoped>\n",
       "    .dataframe tbody tr th:only-of-type {\n",
       "        vertical-align: middle;\n",
       "    }\n",
       "\n",
       "    .dataframe tbody tr th {\n",
       "        vertical-align: top;\n",
       "    }\n",
       "\n",
       "    .dataframe thead th {\n",
       "        text-align: right;\n",
       "    }\n",
       "</style>\n",
       "<table border=\"1\" class=\"dataframe\">\n",
       "  <thead>\n",
       "    <tr style=\"text-align: right;\">\n",
       "      <th></th>\n",
       "      <th>DR_NO</th>\n",
       "      <th>DATE OCC</th>\n",
       "      <th>TIME OCC</th>\n",
       "      <th>AREA</th>\n",
       "      <th>AREA NAME</th>\n",
       "      <th>Rpt Dist No</th>\n",
       "      <th>Part 1-2</th>\n",
       "      <th>Crm Cd</th>\n",
       "      <th>Crm Cd Desc</th>\n",
       "      <th>Vict Age</th>\n",
       "      <th>Vict Sex</th>\n",
       "      <th>Vict Descent</th>\n",
       "      <th>Premis Cd</th>\n",
       "      <th>Premis Desc</th>\n",
       "      <th>Status</th>\n",
       "      <th>Status Desc</th>\n",
       "      <th>LOCATION</th>\n",
       "      <th>LAT</th>\n",
       "      <th>LON</th>\n",
       "    </tr>\n",
       "  </thead>\n",
       "  <tbody>\n",
       "    <tr>\n",
       "      <th>0</th>\n",
       "      <td>10304468</td>\n",
       "      <td>2020-01-08</td>\n",
       "      <td>2230</td>\n",
       "      <td>3</td>\n",
       "      <td>Southwest</td>\n",
       "      <td>377</td>\n",
       "      <td>2</td>\n",
       "      <td>624</td>\n",
       "      <td>BATTERY - SIMPLE ASSAULT</td>\n",
       "      <td>36</td>\n",
       "      <td>F</td>\n",
       "      <td>B</td>\n",
       "      <td>501.0</td>\n",
       "      <td>SINGLE FAMILY DWELLING</td>\n",
       "      <td>AO</td>\n",
       "      <td>Adult Other</td>\n",
       "      <td>1100 W  39TH                         PL</td>\n",
       "      <td>34.0141</td>\n",
       "      <td>-118.2978</td>\n",
       "    </tr>\n",
       "    <tr>\n",
       "      <th>1</th>\n",
       "      <td>190101086</td>\n",
       "      <td>2020-01-01</td>\n",
       "      <td>330</td>\n",
       "      <td>1</td>\n",
       "      <td>Central</td>\n",
       "      <td>163</td>\n",
       "      <td>2</td>\n",
       "      <td>624</td>\n",
       "      <td>BATTERY - SIMPLE ASSAULT</td>\n",
       "      <td>25</td>\n",
       "      <td>M</td>\n",
       "      <td>H</td>\n",
       "      <td>102.0</td>\n",
       "      <td>SIDEWALK</td>\n",
       "      <td>IC</td>\n",
       "      <td>Invest Cont</td>\n",
       "      <td>700 S  HILL                         ST</td>\n",
       "      <td>34.0459</td>\n",
       "      <td>-118.2545</td>\n",
       "    </tr>\n",
       "    <tr>\n",
       "      <th>2</th>\n",
       "      <td>200110444</td>\n",
       "      <td>2020-02-13</td>\n",
       "      <td>1200</td>\n",
       "      <td>1</td>\n",
       "      <td>Central</td>\n",
       "      <td>155</td>\n",
       "      <td>2</td>\n",
       "      <td>845</td>\n",
       "      <td>SEX OFFENDER REGISTRANT OUT OF COMPLIANCE</td>\n",
       "      <td>0</td>\n",
       "      <td>X</td>\n",
       "      <td>X</td>\n",
       "      <td>726.0</td>\n",
       "      <td>POLICE FACILITY</td>\n",
       "      <td>AA</td>\n",
       "      <td>Adult Arrest</td>\n",
       "      <td>200 E  6TH                          ST</td>\n",
       "      <td>34.0448</td>\n",
       "      <td>-118.2474</td>\n",
       "    </tr>\n",
       "    <tr>\n",
       "      <th>3</th>\n",
       "      <td>191501505</td>\n",
       "      <td>2020-01-01</td>\n",
       "      <td>1730</td>\n",
       "      <td>15</td>\n",
       "      <td>N Hollywood</td>\n",
       "      <td>1543</td>\n",
       "      <td>2</td>\n",
       "      <td>745</td>\n",
       "      <td>VANDALISM - MISDEAMEANOR ($399 OR UNDER)</td>\n",
       "      <td>76</td>\n",
       "      <td>F</td>\n",
       "      <td>W</td>\n",
       "      <td>502.0</td>\n",
       "      <td>MULTI-UNIT DWELLING (APARTMENT, DUPLEX, ETC)</td>\n",
       "      <td>IC</td>\n",
       "      <td>Invest Cont</td>\n",
       "      <td>5400    CORTEEN                      PL</td>\n",
       "      <td>34.1685</td>\n",
       "      <td>-118.4019</td>\n",
       "    </tr>\n",
       "    <tr>\n",
       "      <th>4</th>\n",
       "      <td>191921269</td>\n",
       "      <td>2020-01-01</td>\n",
       "      <td>415</td>\n",
       "      <td>19</td>\n",
       "      <td>Mission</td>\n",
       "      <td>1998</td>\n",
       "      <td>2</td>\n",
       "      <td>740</td>\n",
       "      <td>VANDALISM - FELONY ($400 &amp; OVER, ALL CHURCH VA...</td>\n",
       "      <td>31</td>\n",
       "      <td>X</td>\n",
       "      <td>X</td>\n",
       "      <td>409.0</td>\n",
       "      <td>BEAUTY SUPPLY STORE</td>\n",
       "      <td>IC</td>\n",
       "      <td>Invest Cont</td>\n",
       "      <td>14400    TITUS                        ST</td>\n",
       "      <td>34.2198</td>\n",
       "      <td>-118.4468</td>\n",
       "    </tr>\n",
       "  </tbody>\n",
       "</table>\n",
       "</div>\n",
       "    <div class=\"colab-df-buttons\">\n",
       "\n",
       "  <div class=\"colab-df-container\">\n",
       "    <button class=\"colab-df-convert\" onclick=\"convertToInteractive('df-47808df2-8793-44a1-b8c1-38c8dadac7bc')\"\n",
       "            title=\"Convert this dataframe to an interactive table.\"\n",
       "            style=\"display:none;\">\n",
       "\n",
       "  <svg xmlns=\"http://www.w3.org/2000/svg\" height=\"24px\" viewBox=\"0 -960 960 960\">\n",
       "    <path d=\"M120-120v-720h720v720H120Zm60-500h600v-160H180v160Zm220 220h160v-160H400v160Zm0 220h160v-160H400v160ZM180-400h160v-160H180v160Zm440 0h160v-160H620v160ZM180-180h160v-160H180v160Zm440 0h160v-160H620v160Z\"/>\n",
       "  </svg>\n",
       "    </button>\n",
       "\n",
       "  <style>\n",
       "    .colab-df-container {\n",
       "      display:flex;\n",
       "      gap: 12px;\n",
       "    }\n",
       "\n",
       "    .colab-df-convert {\n",
       "      background-color: #E8F0FE;\n",
       "      border: none;\n",
       "      border-radius: 50%;\n",
       "      cursor: pointer;\n",
       "      display: none;\n",
       "      fill: #1967D2;\n",
       "      height: 32px;\n",
       "      padding: 0 0 0 0;\n",
       "      width: 32px;\n",
       "    }\n",
       "\n",
       "    .colab-df-convert:hover {\n",
       "      background-color: #E2EBFA;\n",
       "      box-shadow: 0px 1px 2px rgba(60, 64, 67, 0.3), 0px 1px 3px 1px rgba(60, 64, 67, 0.15);\n",
       "      fill: #174EA6;\n",
       "    }\n",
       "\n",
       "    .colab-df-buttons div {\n",
       "      margin-bottom: 4px;\n",
       "    }\n",
       "\n",
       "    [theme=dark] .colab-df-convert {\n",
       "      background-color: #3B4455;\n",
       "      fill: #D2E3FC;\n",
       "    }\n",
       "\n",
       "    [theme=dark] .colab-df-convert:hover {\n",
       "      background-color: #434B5C;\n",
       "      box-shadow: 0px 1px 3px 1px rgba(0, 0, 0, 0.15);\n",
       "      filter: drop-shadow(0px 1px 2px rgba(0, 0, 0, 0.3));\n",
       "      fill: #FFFFFF;\n",
       "    }\n",
       "  </style>\n",
       "\n",
       "    <script>\n",
       "      const buttonEl =\n",
       "        document.querySelector('#df-47808df2-8793-44a1-b8c1-38c8dadac7bc button.colab-df-convert');\n",
       "      buttonEl.style.display =\n",
       "        google.colab.kernel.accessAllowed ? 'block' : 'none';\n",
       "\n",
       "      async function convertToInteractive(key) {\n",
       "        const element = document.querySelector('#df-47808df2-8793-44a1-b8c1-38c8dadac7bc');\n",
       "        const dataTable =\n",
       "          await google.colab.kernel.invokeFunction('convertToInteractive',\n",
       "                                                    [key], {});\n",
       "        if (!dataTable) return;\n",
       "\n",
       "        const docLinkHtml = 'Like what you see? Visit the ' +\n",
       "          '<a target=\"_blank\" href=https://colab.research.google.com/notebooks/data_table.ipynb>data table notebook</a>'\n",
       "          + ' to learn more about interactive tables.';\n",
       "        element.innerHTML = '';\n",
       "        dataTable['output_type'] = 'display_data';\n",
       "        await google.colab.output.renderOutput(dataTable, element);\n",
       "        const docLink = document.createElement('div');\n",
       "        docLink.innerHTML = docLinkHtml;\n",
       "        element.appendChild(docLink);\n",
       "      }\n",
       "    </script>\n",
       "  </div>\n",
       "\n",
       "\n",
       "<div id=\"df-c878c6c1-131b-434d-96e1-1268fa86f360\">\n",
       "  <button class=\"colab-df-quickchart\" onclick=\"quickchart('df-c878c6c1-131b-434d-96e1-1268fa86f360')\"\n",
       "            title=\"Suggest charts\"\n",
       "            style=\"display:none;\">\n",
       "\n",
       "<svg xmlns=\"http://www.w3.org/2000/svg\" height=\"24px\"viewBox=\"0 0 24 24\"\n",
       "     width=\"24px\">\n",
       "    <g>\n",
       "        <path d=\"M19 3H5c-1.1 0-2 .9-2 2v14c0 1.1.9 2 2 2h14c1.1 0 2-.9 2-2V5c0-1.1-.9-2-2-2zM9 17H7v-7h2v7zm4 0h-2V7h2v10zm4 0h-2v-4h2v4z\"/>\n",
       "    </g>\n",
       "</svg>\n",
       "  </button>\n",
       "\n",
       "<style>\n",
       "  .colab-df-quickchart {\n",
       "      --bg-color: #E8F0FE;\n",
       "      --fill-color: #1967D2;\n",
       "      --hover-bg-color: #E2EBFA;\n",
       "      --hover-fill-color: #174EA6;\n",
       "      --disabled-fill-color: #AAA;\n",
       "      --disabled-bg-color: #DDD;\n",
       "  }\n",
       "\n",
       "  [theme=dark] .colab-df-quickchart {\n",
       "      --bg-color: #3B4455;\n",
       "      --fill-color: #D2E3FC;\n",
       "      --hover-bg-color: #434B5C;\n",
       "      --hover-fill-color: #FFFFFF;\n",
       "      --disabled-bg-color: #3B4455;\n",
       "      --disabled-fill-color: #666;\n",
       "  }\n",
       "\n",
       "  .colab-df-quickchart {\n",
       "    background-color: var(--bg-color);\n",
       "    border: none;\n",
       "    border-radius: 50%;\n",
       "    cursor: pointer;\n",
       "    display: none;\n",
       "    fill: var(--fill-color);\n",
       "    height: 32px;\n",
       "    padding: 0;\n",
       "    width: 32px;\n",
       "  }\n",
       "\n",
       "  .colab-df-quickchart:hover {\n",
       "    background-color: var(--hover-bg-color);\n",
       "    box-shadow: 0 1px 2px rgba(60, 64, 67, 0.3), 0 1px 3px 1px rgba(60, 64, 67, 0.15);\n",
       "    fill: var(--button-hover-fill-color);\n",
       "  }\n",
       "\n",
       "  .colab-df-quickchart-complete:disabled,\n",
       "  .colab-df-quickchart-complete:disabled:hover {\n",
       "    background-color: var(--disabled-bg-color);\n",
       "    fill: var(--disabled-fill-color);\n",
       "    box-shadow: none;\n",
       "  }\n",
       "\n",
       "  .colab-df-spinner {\n",
       "    border: 2px solid var(--fill-color);\n",
       "    border-color: transparent;\n",
       "    border-bottom-color: var(--fill-color);\n",
       "    animation:\n",
       "      spin 1s steps(1) infinite;\n",
       "  }\n",
       "\n",
       "  @keyframes spin {\n",
       "    0% {\n",
       "      border-color: transparent;\n",
       "      border-bottom-color: var(--fill-color);\n",
       "      border-left-color: var(--fill-color);\n",
       "    }\n",
       "    20% {\n",
       "      border-color: transparent;\n",
       "      border-left-color: var(--fill-color);\n",
       "      border-top-color: var(--fill-color);\n",
       "    }\n",
       "    30% {\n",
       "      border-color: transparent;\n",
       "      border-left-color: var(--fill-color);\n",
       "      border-top-color: var(--fill-color);\n",
       "      border-right-color: var(--fill-color);\n",
       "    }\n",
       "    40% {\n",
       "      border-color: transparent;\n",
       "      border-right-color: var(--fill-color);\n",
       "      border-top-color: var(--fill-color);\n",
       "    }\n",
       "    60% {\n",
       "      border-color: transparent;\n",
       "      border-right-color: var(--fill-color);\n",
       "    }\n",
       "    80% {\n",
       "      border-color: transparent;\n",
       "      border-right-color: var(--fill-color);\n",
       "      border-bottom-color: var(--fill-color);\n",
       "    }\n",
       "    90% {\n",
       "      border-color: transparent;\n",
       "      border-bottom-color: var(--fill-color);\n",
       "    }\n",
       "  }\n",
       "</style>\n",
       "\n",
       "  <script>\n",
       "    async function quickchart(key) {\n",
       "      const quickchartButtonEl =\n",
       "        document.querySelector('#' + key + ' button');\n",
       "      quickchartButtonEl.disabled = true;  // To prevent multiple clicks.\n",
       "      quickchartButtonEl.classList.add('colab-df-spinner');\n",
       "      try {\n",
       "        const charts = await google.colab.kernel.invokeFunction(\n",
       "            'suggestCharts', [key], {});\n",
       "      } catch (error) {\n",
       "        console.error('Error during call to suggestCharts:', error);\n",
       "      }\n",
       "      quickchartButtonEl.classList.remove('colab-df-spinner');\n",
       "      quickchartButtonEl.classList.add('colab-df-quickchart-complete');\n",
       "    }\n",
       "    (() => {\n",
       "      let quickchartButtonEl =\n",
       "        document.querySelector('#df-c878c6c1-131b-434d-96e1-1268fa86f360 button');\n",
       "      quickchartButtonEl.style.display =\n",
       "        google.colab.kernel.accessAllowed ? 'block' : 'none';\n",
       "    })();\n",
       "  </script>\n",
       "</div>\n",
       "\n",
       "    </div>\n",
       "  </div>\n"
      ],
      "text/plain": [
       "       DR_NO   DATE OCC  TIME OCC  AREA    AREA NAME  Rpt Dist No  Part 1-2  \\\n",
       "0   10304468 2020-01-08      2230     3    Southwest          377         2   \n",
       "1  190101086 2020-01-01       330     1      Central          163         2   \n",
       "2  200110444 2020-02-13      1200     1      Central          155         2   \n",
       "3  191501505 2020-01-01      1730    15  N Hollywood         1543         2   \n",
       "4  191921269 2020-01-01       415    19      Mission         1998         2   \n",
       "\n",
       "   Crm Cd                                        Crm Cd Desc  Vict Age  \\\n",
       "0     624                           BATTERY - SIMPLE ASSAULT        36   \n",
       "1     624                           BATTERY - SIMPLE ASSAULT        25   \n",
       "2     845          SEX OFFENDER REGISTRANT OUT OF COMPLIANCE         0   \n",
       "3     745           VANDALISM - MISDEAMEANOR ($399 OR UNDER)        76   \n",
       "4     740  VANDALISM - FELONY ($400 & OVER, ALL CHURCH VA...        31   \n",
       "\n",
       "  Vict Sex Vict Descent  Premis Cd  \\\n",
       "0        F            B      501.0   \n",
       "1        M            H      102.0   \n",
       "2        X            X      726.0   \n",
       "3        F            W      502.0   \n",
       "4        X            X      409.0   \n",
       "\n",
       "                                    Premis Desc Status   Status Desc  \\\n",
       "0                        SINGLE FAMILY DWELLING     AO   Adult Other   \n",
       "1                                      SIDEWALK     IC   Invest Cont   \n",
       "2                               POLICE FACILITY     AA  Adult Arrest   \n",
       "3  MULTI-UNIT DWELLING (APARTMENT, DUPLEX, ETC)     IC   Invest Cont   \n",
       "4                           BEAUTY SUPPLY STORE     IC   Invest Cont   \n",
       "\n",
       "                                   LOCATION      LAT       LON  \n",
       "0   1100 W  39TH                         PL  34.0141 -118.2978  \n",
       "1    700 S  HILL                         ST  34.0459 -118.2545  \n",
       "2    200 E  6TH                          ST  34.0448 -118.2474  \n",
       "3   5400    CORTEEN                      PL  34.1685 -118.4019  \n",
       "4  14400    TITUS                        ST  34.2198 -118.4468  "
      ]
     },
     "execution_count": 319,
     "metadata": {},
     "output_type": "execute_result"
    }
   ],
   "source": [
    "# crime_dict\n",
    "df.head()"
   ]
  },
  {
   "cell_type": "code",
   "execution_count": null,
   "metadata": {
    "colab": {
     "base_uri": "https://localhost:8080/"
    },
    "id": "vX1PFSLV8S6F",
    "outputId": "68ff06b7-c4cc-4fec-8c2d-793160c81c03"
   },
   "outputs": [
    {
     "data": {
      "text/plain": [
       "Index(['DR_NO', 'DATE OCC', 'TIME OCC', 'AREA', 'AREA NAME', 'Rpt Dist No',\n",
       "       'Part 1-2', 'Crm Cd', 'Crm Cd Desc', 'Vict Age', 'Vict Sex',\n",
       "       'Vict Descent', 'Premis Cd', 'Premis Desc', 'Status', 'Status Desc',\n",
       "       'LOCATION', 'LAT', 'LON'],\n",
       "      dtype='object')"
      ]
     },
     "execution_count": 320,
     "metadata": {},
     "output_type": "execute_result"
    }
   ],
   "source": [
    "df.columns"
   ]
  },
  {
   "cell_type": "code",
   "execution_count": null,
   "metadata": {
    "id": "KqLCeb7daL0C"
   },
   "outputs": [],
   "source": [
    "# dropping description columns and features not relevant to modeling\n",
    "cleaned_features=[ 'DATE OCC', 'TIME OCC',\n",
    "                  'AREA', 'AREA NAME',\n",
    "                  'Rpt Dist No',\n",
    "                  'Crm Cd', 'Crm Cd Desc',\n",
    "                  'Vict Age',\n",
    "                  'Vict Sex',\n",
    "                  'Vict Descent',\n",
    "                  'Premis Cd', 'Premis Desc',\n",
    "                  'Status', 'Status Desc',\n",
    "                  'LAT', 'LON']"
   ]
  },
  {
   "cell_type": "markdown",
   "metadata": {
    "id": "ctZHXiqlaL0C"
   },
   "source": [
    "## Pickling Final Cleaned Dataframe"
   ]
  },
  {
   "cell_type": "code",
   "execution_count": null,
   "metadata": {
    "id": "aMX5ds6AaL0C"
   },
   "outputs": [],
   "source": [
    "cleaned_df = df[cleaned_features]"
   ]
  },
  {
   "cell_type": "code",
   "execution_count": null,
   "metadata": {
    "id": "Xldk5xAVaL0D"
   },
   "outputs": [],
   "source": [
    "cleaned_df.to_pickle(\"/content/cleaned_df.pkl\")"
   ]
  }
 ],
 "metadata": {
  "accelerator": "GPU",
  "colab": {
   "collapsed_sections": [
    "KcC4BXOnaLz0",
    "0daGAFHmaLz3"
   ],
   "gpuType": "T4",
   "provenance": [],
   "toc_visible": true
  },
  "kernelspec": {
   "display_name": "Python 3",
   "name": "python3"
  },
  "language_info": {
   "codemirror_mode": {
    "name": "ipython",
    "version": 3
   },
   "file_extension": ".py",
   "mimetype": "text/x-python",
   "name": "python",
   "nbconvert_exporter": "python",
   "pygments_lexer": "ipython3",
   "version": "3.6.9-final"
  }
 },
 "nbformat": 4,
 "nbformat_minor": 0
}
